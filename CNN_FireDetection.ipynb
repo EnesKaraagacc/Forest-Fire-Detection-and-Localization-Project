{
 "cells": [
  {
   "cell_type": "code",
   "execution_count": 1,
   "id": "86fd0f7d-3f28-4edd-a72a-e090c4a26330",
   "metadata": {},
   "outputs": [],
   "source": [
    "import tensorflow as tf\n",
    "import os\n",
    "import numpy as np\n",
    "from sklearn.model_selection import train_test_split\n",
    "from tensorflow.keras.preprocessing.image import load_img, img_to_array\n",
    "import matplotlib.pyplot as plt\n",
    "from tensorflow.keras import layers, models, optimizers\n"
   ]
  },
  {
   "cell_type": "code",
   "execution_count": 2,
   "id": "b4fbe9f1-6e63-475d-80aa-423239c6210b",
   "metadata": {},
   "outputs": [
    {
     "name": "stdout",
     "output_type": "stream",
     "text": [
      "Num GPUs Available:  1\n"
     ]
    }
   ],
   "source": [
    "print(\"Num GPUs Available: \", len(tf.config.list_physical_devices('GPU')))\n"
   ]
  },
  {
   "cell_type": "code",
   "execution_count": null,
   "id": "9b506a3e-a729-4de3-ad5e-b20d41aa00da",
   "metadata": {},
   "outputs": [],
   "source": [
    "# Set file paths\n",
    "fire_dir = r'C:\\Users\\90544\\Downloads\\archive (1)\\Data\\Train_Data\\Fire'\n",
    "non_fire_dir = r'C:\\Users\\90544\\Downloads\\archive (1)\\Data\\Train_Data\\Non_Fire'"
   ]
  },
  {
   "cell_type": "code",
   "execution_count": 3,
   "id": "5c508999-448d-432b-a8ac-bf0e7a72f645",
   "metadata": {},
   "outputs": [],
   "source": [
    "# Upload and labeling images\n",
    "def load_images_from_folder(folder, label):\n",
    "    images = []\n",
    "    labels = []\n",
    "    for filename in os.listdir(folder):\n",
    "        img_path = os.path.join(folder, filename)\n",
    "        img = load_img(img_path, target_size=(128, 128))\n",
    "        img_array = img_to_array(img) / 255.0  # Normalizasyon\n",
    "        images.append(img_array)\n",
    "        labels.append(label)\n",
    "    return np.array(images), np.array(labels)\n"
   ]
  },
  {
   "cell_type": "code",
   "execution_count": null,
   "id": "5d13444f-effb-4110-b674-39c7677281ca",
   "metadata": {},
   "outputs": [],
   "source": [
    "fire_images, fire_labels = load_images_from_folder(fire_dir, 1)  # 1: Fire class\n",
    "non_fire_images, non_fire_labels = load_images_from_folder(non_fire_dir, 0)  # 0: Non-fire class\n"
   ]
  },
  {
   "cell_type": "code",
   "execution_count": null,
   "id": "4559e6a4-e79f-4eb0-a9e3-23da326a597e",
   "metadata": {},
   "outputs": [],
   "source": [
    "# concatenate images and tags\n",
    "X = np.concatenate([fire_images, non_fire_images], axis=0)\n",
    "y = np.concatenate([fire_labels, non_fire_labels], axis=0)"
   ]
  },
  {
   "cell_type": "code",
   "execution_count": null,
   "id": "8bae4376-ef52-4719-8858-c720d9b4fd5e",
   "metadata": {},
   "outputs": [],
   "source": [
    "# divide the data into 70% train, 15% validation, 15% test.\n",
    "X_train, X_test, y_train, y_test = train_test_split(X, y, test_size=0.15, random_state=42)\n",
    "X_train, X_val, y_train, y_val = train_test_split(X_train, y_train, test_size=0.176, random_state=42)  # %15/(1-%15)=%17.6\n"
   ]
  },
  {
   "cell_type": "code",
   "execution_count": 4,
   "id": "eba87f73-2f91-4704-98cb-375451cbbe78",
   "metadata": {},
   "outputs": [
    {
     "name": "stdout",
     "output_type": "stream",
     "text": [
      "Train set: 4018\n",
      "Validation set: 859\n",
      "Test set: 861\n"
     ]
    }
   ],
   "source": [
    "print(f'Train set: {len(X_train)}')\n",
    "print(f'Validation set: {len(X_val)}')\n",
    "print(f'Test set: {len(X_test)}')\n"
   ]
  },
  {
   "cell_type": "code",
   "execution_count": null,
   "id": "60710238-f3d5-4230-a2c8-eab7e333b556",
   "metadata": {},
   "outputs": [],
   "source": [
    "# Create model\n",
    "model = models.Sequential([\n",
    "    layers.Conv2D(32, (3, 3), activation='relu', input_shape=(128, 128, 3)),\n",
    "    layers.MaxPooling2D((2, 2)),\n",
    "    layers.Conv2D(64, (3, 3), activation='relu'),\n",
    "    layers.MaxPooling2D((2, 2)),\n",
    "    layers.Conv2D(128, (3, 3), activation='relu'),\n",
    "    layers.MaxPooling2D((2, 2)),\n",
    "    layers.Flatten(),\n",
    "    layers.Dense(128, activation='relu'),\n",
    "    layers.Dropout(0.5),\n",
    "    layers.Dense(1, activation='sigmoid')\n",
    "])"
   ]
  },
  {
   "cell_type": "code",
   "execution_count": null,
   "id": "ca8344ae-344e-4b9d-8e67-a4de2959c863",
   "metadata": {},
   "outputs": [],
   "source": [
    "# Customizing the Optimizer (with learning rate)\n",
    "learning_rate = 0.001  # Değiştirmek istediğin değeri buraya yaz\n",
    "optimizer = optimizers.Adam(learning_rate=learning_rate)"
   ]
  },
  {
   "cell_type": "code",
   "execution_count": null,
   "id": "d3bfe074-740f-4e89-ba07-77972f5031db",
   "metadata": {},
   "outputs": [],
   "source": [
    "# Compile model\n",
    "model.compile(optimizer=optimizer,\n",
    "              loss='binary_crossentropy',\n",
    "              metrics=['accuracy'])"
   ]
  },
  {
   "cell_type": "code",
   "execution_count": 5,
   "id": "5222b108-90a5-410a-b7c2-9bda030e454b",
   "metadata": {},
   "outputs": [
    {
     "name": "stdout",
     "output_type": "stream",
     "text": [
      "Epoch 1/20\n",
      "126/126 [==============================] - 34s 43ms/step - loss: 0.2695 - accuracy: 0.8890 - val_loss: 0.1643 - val_accuracy: 0.9371\n",
      "Epoch 2/20\n",
      "126/126 [==============================] - 5s 38ms/step - loss: 0.1840 - accuracy: 0.9306 - val_loss: 0.1583 - val_accuracy: 0.9418\n",
      "Epoch 3/20\n",
      "126/126 [==============================] - 5s 38ms/step - loss: 0.1463 - accuracy: 0.9445 - val_loss: 0.1596 - val_accuracy: 0.9348\n",
      "Epoch 4/20\n",
      "126/126 [==============================] - 5s 38ms/step - loss: 0.1344 - accuracy: 0.9515 - val_loss: 0.1265 - val_accuracy: 0.9523\n",
      "Epoch 5/20\n",
      "126/126 [==============================] - 5s 38ms/step - loss: 0.1272 - accuracy: 0.9545 - val_loss: 0.1650 - val_accuracy: 0.9534\n",
      "Epoch 6/20\n",
      "126/126 [==============================] - 7s 54ms/step - loss: 0.0949 - accuracy: 0.9654 - val_loss: 0.0939 - val_accuracy: 0.9569\n",
      "Epoch 7/20\n",
      "126/126 [==============================] - 5s 41ms/step - loss: 0.0866 - accuracy: 0.9686 - val_loss: 0.1385 - val_accuracy: 0.9546\n",
      "Epoch 8/20\n",
      "126/126 [==============================] - 6s 44ms/step - loss: 0.0697 - accuracy: 0.9751 - val_loss: 0.0892 - val_accuracy: 0.9639\n",
      "Epoch 9/20\n",
      "126/126 [==============================] - 6s 46ms/step - loss: 0.0603 - accuracy: 0.9766 - val_loss: 0.0902 - val_accuracy: 0.9662\n",
      "Epoch 10/20\n",
      "126/126 [==============================] - 6s 47ms/step - loss: 0.0539 - accuracy: 0.9803 - val_loss: 0.1040 - val_accuracy: 0.9651\n",
      "Epoch 11/20\n",
      "126/126 [==============================] - 6s 50ms/step - loss: 0.0477 - accuracy: 0.9836 - val_loss: 0.0934 - val_accuracy: 0.9709\n",
      "Epoch 12/20\n",
      "126/126 [==============================] - 7s 52ms/step - loss: 0.0395 - accuracy: 0.9861 - val_loss: 0.1026 - val_accuracy: 0.9662\n",
      "Epoch 13/20\n",
      "126/126 [==============================] - 7s 57ms/step - loss: 0.0362 - accuracy: 0.9846 - val_loss: 0.0909 - val_accuracy: 0.9709\n",
      "Epoch 14/20\n",
      "126/126 [==============================] - 8s 60ms/step - loss: 0.0231 - accuracy: 0.9915 - val_loss: 0.1247 - val_accuracy: 0.9686\n",
      "Epoch 15/20\n",
      "126/126 [==============================] - 8s 66ms/step - loss: 0.0253 - accuracy: 0.9883 - val_loss: 0.1280 - val_accuracy: 0.9651\n",
      "Epoch 16/20\n",
      "126/126 [==============================] - 9s 70ms/step - loss: 0.0144 - accuracy: 0.9955 - val_loss: 0.1320 - val_accuracy: 0.9662\n",
      "Epoch 17/20\n",
      "126/126 [==============================] - 10s 77ms/step - loss: 0.0228 - accuracy: 0.9913 - val_loss: 0.1219 - val_accuracy: 0.9651\n",
      "Epoch 18/20\n",
      "126/126 [==============================] - 11s 85ms/step - loss: 0.0149 - accuracy: 0.9945 - val_loss: 0.1333 - val_accuracy: 0.9639\n",
      "Epoch 19/20\n",
      "126/126 [==============================] - 12s 96ms/step - loss: 0.0180 - accuracy: 0.9948 - val_loss: 0.1694 - val_accuracy: 0.9721\n",
      "Epoch 20/20\n",
      "126/126 [==============================] - 14s 107ms/step - loss: 0.0157 - accuracy: 0.9945 - val_loss: 0.1030 - val_accuracy: 0.9709\n",
      "27/27 [==============================] - 1s 20ms/step - loss: 0.1030 - accuracy: 0.9709\n",
      "27/27 [==============================] - 1s 54ms/step - loss: 0.2134 - accuracy: 0.9547\n",
      "Validation Accuracy: 0.9708963632583618, Test Accuracy: 0.9547038078308105\n"
     ]
    }
   ],
   "source": [
    "# Training model with setting batch size\n",
    "batch_size = 32  \n",
    "history = model.fit(\n",
    "    X_train, y_train,\n",
    "    epochs=20,\n",
    "    batch_size=batch_size,\n",
    "    validation_data=(X_val, y_val)\n",
    ")\n",
    "\n",
    "# Evaluation of training and validation accuracy\n",
    "val_loss, val_acc = model.evaluate(X_val, y_val)\n",
    "test_loss, test_acc = model.evaluate(X_test, y_test)\n",
    "\n",
    "print(f'Validation Accuracy: {val_acc}, Test Accuracy: {test_acc}')\n"
   ]
  },
  {
   "cell_type": "code",
   "execution_count": 8,
   "id": "c191f9d2-0c9c-448c-86e2-0aee22b0ea68",
   "metadata": {},
   "outputs": [],
   "source": [
    "model.save(\"fire_weight.h5\")"
   ]
  }
 ],
 "metadata": {
  "kernelspec": {
   "display_name": "Python 3 (ipykernel)",
   "language": "python",
   "name": "python3"
  },
  "language_info": {
   "codemirror_mode": {
    "name": "ipython",
    "version": 3
   },
   "file_extension": ".py",
   "mimetype": "text/x-python",
   "name": "python",
   "nbconvert_exporter": "python",
   "pygments_lexer": "ipython3",
   "version": "3.10.14"
  }
 },
 "nbformat": 4,
 "nbformat_minor": 5
}
